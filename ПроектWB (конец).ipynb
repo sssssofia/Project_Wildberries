<image src="https://uk-alliance.org/wp-content/uploads/2022/01/wb.png" alt="Иллюстрация к проекту" width="800" height="300">

# **Проект по Анализу Данных**
## Тема проекта: "Парсинг сайта "Wildberries", раздел "Книги по психологии".  Выполнили: Миропольская Анна Романовна и Савенкова Софья Дмитриевна, группа БЭК215

### Шаг 1: выбор темы
На данном этапе перед нами стояла задача выбора темы. Мы остановили свой выбор на книгах по психологии, так как мы достаточно увлечены данной наукой и являемся частыми покупателями соответствующей литературы. Также важным фактором является то, что платформа "Wildberries" на данный момет ялвяется одним из крупнейших интернет-магазинов в России.

### Шаг 2: сбор данных
На втором этапе нами был произведен парсинг датасета с сайта "Wildberries", раздел "Книги по психологии". В качестве характеристик мы взяли название, цена, рейтинг, отзывы, длина книги бла бла бла.
Для парсинга нами были использованы следующие библиотеки: time, selenium и BeautifulSoup.


{
 "cells": [
  {
   "cell_type": "code",
   "execution_count": 73,
   "id": "9a62a87b",
   "metadata": {},
   "outputs": [],
   "source": [
    "from time import sleep\n",
    "from selenium import webdriver\n",
    "from selenium.webdriver.chrome.service import Service\n",
    "from bs4 import BeautifulSoup\n",
    "import pandas as pd\n",
    "import requests\n",
    "import csv\n",
    "\n",
    "headers = {\n",
    "    'accept': 'text/html,application/xhtml+xml,application/xml;q=0.9,image/avif,image/webp,image/apng,*/*;q=0.8,application/signed-exchange;v=b3;q=0.7',\n",
    "    'user-agent': 'Mozilla/5.0 (Windows NT 10.0; Win64; x64) AppleWebKit/537.36 (KHTML, like Gecko) Chrome/113.0.0.0 Safari/537.36'\n",
    "}\n",
    "\n",
    "urls = []\n",
    "\n",
    "for p in range (1, 60):\n",
    "    url = f'https://www.wildberries.ru/catalog/knigi/nehudozhestvennaya-literatura/psihologiya?sort=popular&page={p}'\n",
    "\n",
    "    s = Service('C:/Users/User/Desktop/Python/проект/webdrivers/chromedriver.exe')\n",
    "    browser = webdriver.Chrome(service=s)                          \n",
    "    browser.get(url)\n",
    "\n",
    "    books_divs = []  \n",
    "    for i in range(11):  \n",
    "        browser.execute_script(\"window.scrollTo(1, document.body.scrollHeight);\")  \n",
    "        time.sleep(1) \n",
    "        html = browser.page_source \n",
    "        soup = BeautifulSoup(html, 'html.parser') \n",
    "        books = soup.find_all('div', class_='product-card__wrapper')\n",
    "\n",
    "    for book in books:\n",
    "        url = book.find('a', class_='product-card__link j-card-link j-open-full-product-card').get('href')\n",
    "        urls.append(url)\n",
    "        \n",
    "with open('urls.csv', 'w', newline='\\n', encoding=\"utf-8\") as file:\n",
    "        writer = csv.writer(file)\n",
    "        for url in urls:\n",
    "            writer.writerow([url])\n",
    "    \n",
    "        "
   ]
  },
  {
   "cell_type": "code",
   "execution_count": null,
   "id": "867a87a8",
   "metadata": {},
   "outputs": [],
   "source": [
    "urls = []\n",
    "with open('urls.csv', 'r') as file:\n",
    "    reader = csv.reader(file)\n",
    "    for row in reader:\n",
    "        for row in reader:\n",
    "            if row:  # Проверяем, что строка не пустая\n",
    "                url = row[0]  \n",
    "                urls.append(url)\n",
    "\n",
    "with open('final.csv', 'a', newline='\\n', encoding='utf-8') as file:\n",
    "    writer = csv.writer(file)\n",
    "    for index, url in enumerate(urls, start=1):\n",
    "        data = [index, url] \n",
    "\n",
    "        browser.get(url)\n",
    "        sleep(1)\n",
    "        \n",
    "        try: #GPT достал book_name с помощью библиотеки selenium по коду с сайта WB\n",
    "            book_name = browser.find_element_by_css_selector('h1[data-link=\"text{:selectedNomenclature^goodsName}\"]').text[0]\n",
    "            data.append(book_name)\n",
    "        except:\n",
    "            data.append('None')\n",
    "        \n",
    "\n",
    "    "
   ]
  }
 ],
 "metadata": {
  "kernelspec": {
   "display_name": "Python 3 (ipykernel)",
   "language": "python",
   "name": "python3"
  },
  "language_info": {
   "codemirror_mode": {
    "name": "ipython",
    "version": 3
   },
   "file_extension": ".py",
   "mimetype": "text/x-python",
   "name": "python",
   "nbconvert_exporter": "python",
   "pygments_lexer": "ipython3",
   "version": "3.9.7"
  }
 },
 "nbformat": 4,
 "nbformat_minor": 5
}
