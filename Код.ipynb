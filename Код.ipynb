{
 "cells": [
  {
   "cell_type": "code",
   "execution_count": 89,
   "id": "f31e93e8",
   "metadata": {},
   "outputs": [],
   "source": [
    "import time\n",
    "from time import sleep\n",
    "from selenium import webdriver\n",
    "from selenium.webdriver.chrome.service import Service\n",
    "from bs4 import BeautifulSoup\n",
    "import pandas as pd\n",
    "import requests\n",
    "import csv\n",
    "\n",
    "urls = []\n",
    "\n",
    "for p in range (1, 21):\n",
    "    url = f'https://www.wildberries.ru/catalog/knigi/nehudozhestvennaya-literatura/psihologiya?sort=popular&page={p}'\n",
    "\n",
    "    s = Service('C:/Users/User/Desktop/Python/проект/webdrivers/chromedriver.exe')\n",
    "    browser = webdriver.Chrome(service=s)                          \n",
    "    browser.get(url)\n",
    "\n",
    "    books_divs = []  \n",
    "    for i in range(11):  \n",
    "        browser.execute_script(\"window.scrollTo(1, document.body.scrollHeight);\")  \n",
    "        time.sleep(1) \n",
    "        html = browser.page_source \n",
    "        soup = BeautifulSoup(html, 'html.parser') \n",
    "        books = soup.find_all('div', class_='product-card__wrapper')\n",
    "\n",
    "    for book in books:\n",
    "        url = book.find('a', class_='product-card__link j-card-link j-open-full-product-card').get('href')\n",
    "        urls.append(url)\n",
    "        \n",
    "with open('urls.csv', 'w', newline='\\n', encoding=\"utf-8\") as file:\n",
    "        writer = csv.writer(file)\n",
    "        for url in urls:\n",
    "            writer.writerow([url])\n",
    "    \n",
    "        "
   ]
  },
  {
   "cell_type": "code",
   "execution_count": 90,
   "id": "2da6d0be",
   "metadata": {},
   "outputs": [],
   "source": [
    "urls = []\n",
    "with open('urls.csv', 'r') as file:\n",
    "    reader = csv.reader(file)\n",
    "    for row in reader:\n",
    "        for row in reader:\n",
    "            if row:  # Проверяем, что строка не пустая\n",
    "                url = row[0]  \n",
    "                urls.append(url)\n",
    "                \n",
    "with open('final.csv', 'a', newline='\\n', encoding='utf-8') as file:\n",
    "    writer = csv.writer(file)\n",
    "    for index, url in enumerate(urls, start=1):\n",
    "        data = [index, url] \n",
    "\n",
    "        browser.get(url)\n",
    "        browser.execute_script(\"window.scrollTo(1, document.body.scrollHeight);\")\n",
    "        time.sleep(2)\n",
    "        \n",
    "        try: \n",
    "            book_name = browser.find_element(By.XPATH,'//h1').text\n",
    "            data.append(book_name)\n",
    "        except:\n",
    "            data.append('None')\n",
    "        \n",
    "        try: \n",
    "            book_price = browser.find_element(By.XPATH,'//ins').text\n",
    "            data.append(book_price)\n",
    "        except:\n",
    "            data.append('None')\n",
    "            \n",
    "        try: \n",
    "            book_rating_count = browser.find_element(By.XPATH, \"//span[@class='product-review__count-review']\").text\n",
    "            data.append(book_rating_count)\n",
    "        except:\n",
    "            data.append('None')\n",
    "            \n",
    "        try: \n",
    "            book_rating = browser.find_element(By.XPATH, \"//span[@class='product-review__rating address-rate-mini address-rate-mini--sm']\").text\n",
    "            data.append(book_rating)\n",
    "        except:\n",
    "            data.append('None')\n",
    "            \n",
    "        # мы пробовали запарсить вес товара, количсетво страниц, но на кждой странице тэг ля них отличается, поэтому цикл омается\n",
    "    \n",
    "        writer.writerow(data)\n",
    "        \n",
    "file.close()"
   ]
  },
  {
   "cell_type": "markdown",
   "id": "c0e5d401",
   "metadata": {},
   "source": [
    "Кодировка файла была некорректной, вследствие чего подправили ее в Excel. Из-за этого столбцы разделились по колонкам - вернем все к виду csv"
   ]
  },
  {
   "cell_type": "code",
   "execution_count": 111,
   "id": "46284317",
   "metadata": {},
   "outputs": [],
   "source": []
  },
  {
   "cell_type": "code",
   "execution_count": 145,
   "id": "90f390c5",
   "metadata": {},
   "outputs": [
    {
     "data": {
      "text/plain": [
       "0         79\n",
       "1       1511\n",
       "2         67\n",
       "3       2695\n",
       "4          5\n",
       "        ... \n",
       "2004       7\n",
       "2005      90\n",
       "2006       6\n",
       "2007       4\n",
       "2008       8\n",
       "Name: Number of rating no letters, Length: 2009, dtype: object"
      ]
     },
     "execution_count": 145,
     "metadata": {},
     "output_type": "execute_result"
    }
   ],
   "source": [
    "# чистим 5-ый столбик\n",
    "df = pd.read_excel('C:/Users/User/Desktop/Python/проект/finally.xlsx')\n",
    "df['Number of rating no letters'] = df['Number of rating'].str.replace('\\D', '', regex=True).str.replace(' ', '')\n",
    "df['Number of rating no letters']"
   ]
  },
  {
   "cell_type": "code",
   "execution_count": 155,
   "id": "f6e2b450",
   "metadata": {},
   "outputs": [
    {
     "data": {
      "text/plain": [
       "0         79.0\n",
       "1       1511.0\n",
       "2         67.0\n",
       "3       2695.0\n",
       "4          5.0\n",
       "         ...  \n",
       "2004       7.0\n",
       "2005      90.0\n",
       "2006       6.0\n",
       "2007       4.0\n",
       "2008       8.0\n",
       "Name: Number of rating no letters, Length: 2009, dtype: float64"
      ]
     },
     "execution_count": 155,
     "metadata": {},
     "output_type": "execute_result"
    }
   ],
   "source": [
    "# доп. обработка Number of rating no letters\n",
    "df['Number of rating no letters'] = df['Number of rating no letters'].replace('', float('nan'))\n",
    "df['Number of rating no letters'] = df['Number of rating no letters'].dropna().astype(float)\n",
    "mean_value = df['Number of rating no letters'].mean()\n",
    "df['Number of rating no letters'].fillna(mean_value, inplace=True)"
   ]
  },
  {
   "cell_type": "code",
   "execution_count": 162,
   "id": "4a43a883",
   "metadata": {},
   "outputs": [],
   "source": [
    "df['Price'] = df['Price'].replace('', float('nan'))\n",
    "df['Price'] = df['Price'].dropna().astype(float)\n",
    "mean_value = df['Number of rating no letters'].mean()\n",
    "df['Price'].fillna(mean_value, inplace=True)"
   ]
  },
  {
   "cell_type": "code",
   "execution_count": 163,
   "id": "74edb974",
   "metadata": {},
   "outputs": [
    {
     "name": "stdout",
     "output_type": "stream",
     "text": [
      "      Фактические значения  Предсказанные значения\n",
      "1593                 964.0              748.382542\n",
      "526                  902.0              745.233734\n",
      "393                  217.0              745.233734\n",
      "1403                 292.0              748.075213\n",
      "433                  178.0              745.233734\n",
      "...                    ...                     ...\n",
      "940                  600.0              745.847076\n",
      "733                  525.0              745.233734\n",
      "1575                1051.0              748.459374\n",
      "692                  573.0              745.233734\n",
      "1255                 456.0              747.767883\n",
      "\n",
      "[402 rows x 2 columns]\n"
     ]
    }
   ],
   "source": [
    "from sklearn.linear_model import LinearRegression\n",
    "from sklearn.model_selection import train_test_split\n",
    "\n",
    "# Загружаем данные из файла\n",
    "number_of_rating = df[['Number of rating no letters']]  # Колонка с количеством отзывов на книги\n",
    "prices = df['Price']  # Колонка с ценами книг\n",
    "\n",
    "# Разделение данных на обучающую и тестовую выборки\n",
    "X_train, X_test, y_train, y_test = train_test_split(number_of_rating, prices, test_size=0.2, random_state=42)\n",
    "\n",
    "# Создаем модель линейной регрессии\n",
    "\n",
    "modelka = LinearRegression()\n",
    "\n",
    "# Изменяем форму массива весов для соответствия ожидаемым входным данным модели\n",
    "X = number_of_rating\n",
    "\n",
    "# Обучаем модель на входных данных\n",
    "modelka.fit(X_train, y_train)\n",
    "\n",
    "# Предсказание цены на тестовой выборке\n",
    "y_pred = modelka.predict(X_test)\n",
    "\n",
    "# Вывод предсказанных значений и фактических значений\n",
    "predictions = pd.DataFrame({'Фактические значения': y_test, 'Предсказанные значения': y_pred})\n",
    "print(predictions)\n",
    "\n"
   ]
  },
  {
   "cell_type": "code",
   "execution_count": null,
   "id": "bf9d57e8",
   "metadata": {},
   "outputs": [],
   "source": [
    "Ввиду малого количества данных предсказанные значения получились не очень точными"
   ]
  }
 ],
 "metadata": {
  "kernelspec": {
   "display_name": "Python 3 (ipykernel)",
   "language": "python",
   "name": "python3"
  },
  "language_info": {
   "codemirror_mode": {
    "name": "ipython",
    "version": 3
   },
   "file_extension": ".py",
   "mimetype": "text/x-python",
   "name": "python",
   "nbconvert_exporter": "python",
   "pygments_lexer": "ipython3",
   "version": "3.9.7"
  }
 },
 "nbformat": 4,
 "nbformat_minor": 5
}
